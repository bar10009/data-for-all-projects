{
 "cells": [
  {
   "cell_type": "markdown",
   "metadata": {},
   "source": [
    "Context\n",
    "Using Watson Analytics, you can predict behavior to retain your customers. You can analyze all relevant customer data and develop focused customer retention programs.\n",
    "\n",
    "Inspiration\n",
    "Understand customer demographics and buying behavior. Use predictive analytics to analyze the most profitable customers and how they interact. Take targeted actions to increase profitable customer response, retention, and growth.\n",
    "\n",
    "Source\n",
    "https://www.ibm.com/communities/analytics/watson-analytics-blog/marketing-customer-value-analysis/"
   ]
  },
  {
   "cell_type": "code",
   "execution_count": 112,
   "metadata": {},
   "outputs": [],
   "source": [
    "import numpy as np # linear algebra\n",
    "import pandas as pd # data processing, CSV file I/O (e.g. pd.read_csv)"
   ]
  },
  {
   "cell_type": "code",
   "execution_count": 113,
   "metadata": {},
   "outputs": [],
   "source": [
    "import matplotlib.pyplot as plt\n",
    "import seaborn as sns               # Provides a high level interface for drawing attractive and informative statistical graphics\n",
    "%matplotlib inline\n",
    "sns.set()\n",
    "from subprocess import check_output\n",
    "\n",
    "import warnings                                            # Ignore warning related to pandas_profiling\n",
    "warnings.filterwarnings('ignore')"
   ]
  },
  {
   "cell_type": "code",
   "execution_count": 114,
   "metadata": {},
   "outputs": [],
   "source": [
    "def annot_plot(ax,w,h):                                    # function to add data to plot\n",
    "    ax.spines['top'].set_visible(False)\n",
    "    ax.spines['right'].set_visible(False)\n",
    "    for p in ax.patches:\n",
    "         ax.annotate(f\"{p.get_height() * 100 / df.shape[0]:.2f}%\", (p.get_x() + p.get_width() / 2., p.get_height()),\n",
    "         ha='center', va='center', fontsize=11, color='black', rotation=0, xytext=(0, 10),\n",
    "         textcoords='offset points')             \n",
    "def annot_plot_num(ax,w,h):                                    # function to add data to plot\n",
    "    ax.spines['top'].set_visible(False)\n",
    "    ax.spines['right'].set_visible(False)\n",
    "    for p in ax.patches:\n",
    "        ax.annotate('{0:.1f}'.format(p.get_height()), (p.get_x()+w, p.get_height()+h))\n",
    "\n"
   ]
  },
  {
   "cell_type": "code",
   "execution_count": 115,
   "metadata": {},
   "outputs": [
    {
     "ename": "FileNotFoundError",
     "evalue": "[Errno 2] No such file or directory: '../input'",
     "output_type": "error",
     "traceback": [
      "\u001b[0;31m---------------------------------------------------------------------------\u001b[0m",
      "\u001b[0;31mFileNotFoundError\u001b[0m                         Traceback (most recent call last)",
      "\u001b[0;32m<ipython-input-115-a7cf4ce3b0bb>\u001b[0m in \u001b[0;36m<module>\u001b[0;34m\u001b[0m\n\u001b[1;32m      1\u001b[0m \u001b[0;32mimport\u001b[0m \u001b[0mos\u001b[0m\u001b[0;34m\u001b[0m\u001b[0;34m\u001b[0m\u001b[0m\n\u001b[0;32m----> 2\u001b[0;31m \u001b[0mprint\u001b[0m\u001b[0;34m(\u001b[0m\u001b[0mos\u001b[0m\u001b[0;34m.\u001b[0m\u001b[0mlistdir\u001b[0m\u001b[0;34m(\u001b[0m\u001b[0;34m\"../input\"\u001b[0m\u001b[0;34m)\u001b[0m\u001b[0;34m)\u001b[0m\u001b[0;34m\u001b[0m\u001b[0;34m\u001b[0m\u001b[0m\n\u001b[0m",
      "\u001b[0;31mFileNotFoundError\u001b[0m: [Errno 2] No such file or directory: '../input'"
     ]
    }
   ],
   "source": [
    "import os\n",
    "print(os.listdir(\"../input\"))"
   ]
  },
  {
   "cell_type": "code",
   "execution_count": 116,
   "metadata": {},
   "outputs": [],
   "source": [
    "df = pd.read_csv('WA_Fn-UseC_-Marketing-Customer-Value-Analysis.csv')"
   ]
  },
  {
   "cell_type": "code",
   "execution_count": 117,
   "metadata": {},
   "outputs": [
    {
     "data": {
      "text/html": [
       "<div>\n",
       "<style scoped>\n",
       "    .dataframe tbody tr th:only-of-type {\n",
       "        vertical-align: middle;\n",
       "    }\n",
       "\n",
       "    .dataframe tbody tr th {\n",
       "        vertical-align: top;\n",
       "    }\n",
       "\n",
       "    .dataframe thead th {\n",
       "        text-align: right;\n",
       "    }\n",
       "</style>\n",
       "<table border=\"1\" class=\"dataframe\">\n",
       "  <thead>\n",
       "    <tr style=\"text-align: right;\">\n",
       "      <th></th>\n",
       "      <th>Customer</th>\n",
       "      <th>State</th>\n",
       "      <th>Customer Lifetime Value</th>\n",
       "      <th>Response</th>\n",
       "      <th>Coverage</th>\n",
       "      <th>Education</th>\n",
       "      <th>Effective To Date</th>\n",
       "      <th>EmploymentStatus</th>\n",
       "      <th>Gender</th>\n",
       "      <th>Income</th>\n",
       "      <th>...</th>\n",
       "      <th>Months Since Policy Inception</th>\n",
       "      <th>Number of Open Complaints</th>\n",
       "      <th>Number of Policies</th>\n",
       "      <th>Policy Type</th>\n",
       "      <th>Policy</th>\n",
       "      <th>Renew Offer Type</th>\n",
       "      <th>Sales Channel</th>\n",
       "      <th>Total Claim Amount</th>\n",
       "      <th>Vehicle Class</th>\n",
       "      <th>Vehicle Size</th>\n",
       "    </tr>\n",
       "  </thead>\n",
       "  <tbody>\n",
       "    <tr>\n",
       "      <th>0</th>\n",
       "      <td>BU79786</td>\n",
       "      <td>Washington</td>\n",
       "      <td>2763.519279</td>\n",
       "      <td>No</td>\n",
       "      <td>Basic</td>\n",
       "      <td>Bachelor</td>\n",
       "      <td>2/24/11</td>\n",
       "      <td>Employed</td>\n",
       "      <td>F</td>\n",
       "      <td>56274</td>\n",
       "      <td>...</td>\n",
       "      <td>5</td>\n",
       "      <td>0</td>\n",
       "      <td>1</td>\n",
       "      <td>Corporate Auto</td>\n",
       "      <td>Corporate L3</td>\n",
       "      <td>Offer1</td>\n",
       "      <td>Agent</td>\n",
       "      <td>384.811147</td>\n",
       "      <td>Two-Door Car</td>\n",
       "      <td>Medsize</td>\n",
       "    </tr>\n",
       "    <tr>\n",
       "      <th>1</th>\n",
       "      <td>QZ44356</td>\n",
       "      <td>Arizona</td>\n",
       "      <td>6979.535903</td>\n",
       "      <td>No</td>\n",
       "      <td>Extended</td>\n",
       "      <td>Bachelor</td>\n",
       "      <td>1/31/11</td>\n",
       "      <td>Unemployed</td>\n",
       "      <td>F</td>\n",
       "      <td>0</td>\n",
       "      <td>...</td>\n",
       "      <td>42</td>\n",
       "      <td>0</td>\n",
       "      <td>8</td>\n",
       "      <td>Personal Auto</td>\n",
       "      <td>Personal L3</td>\n",
       "      <td>Offer3</td>\n",
       "      <td>Agent</td>\n",
       "      <td>1131.464935</td>\n",
       "      <td>Four-Door Car</td>\n",
       "      <td>Medsize</td>\n",
       "    </tr>\n",
       "    <tr>\n",
       "      <th>2</th>\n",
       "      <td>AI49188</td>\n",
       "      <td>Nevada</td>\n",
       "      <td>12887.431650</td>\n",
       "      <td>No</td>\n",
       "      <td>Premium</td>\n",
       "      <td>Bachelor</td>\n",
       "      <td>2/19/11</td>\n",
       "      <td>Employed</td>\n",
       "      <td>F</td>\n",
       "      <td>48767</td>\n",
       "      <td>...</td>\n",
       "      <td>38</td>\n",
       "      <td>0</td>\n",
       "      <td>2</td>\n",
       "      <td>Personal Auto</td>\n",
       "      <td>Personal L3</td>\n",
       "      <td>Offer1</td>\n",
       "      <td>Agent</td>\n",
       "      <td>566.472247</td>\n",
       "      <td>Two-Door Car</td>\n",
       "      <td>Medsize</td>\n",
       "    </tr>\n",
       "    <tr>\n",
       "      <th>3</th>\n",
       "      <td>WW63253</td>\n",
       "      <td>California</td>\n",
       "      <td>7645.861827</td>\n",
       "      <td>No</td>\n",
       "      <td>Basic</td>\n",
       "      <td>Bachelor</td>\n",
       "      <td>1/20/11</td>\n",
       "      <td>Unemployed</td>\n",
       "      <td>M</td>\n",
       "      <td>0</td>\n",
       "      <td>...</td>\n",
       "      <td>65</td>\n",
       "      <td>0</td>\n",
       "      <td>7</td>\n",
       "      <td>Corporate Auto</td>\n",
       "      <td>Corporate L2</td>\n",
       "      <td>Offer1</td>\n",
       "      <td>Call Center</td>\n",
       "      <td>529.881344</td>\n",
       "      <td>SUV</td>\n",
       "      <td>Medsize</td>\n",
       "    </tr>\n",
       "    <tr>\n",
       "      <th>4</th>\n",
       "      <td>HB64268</td>\n",
       "      <td>Washington</td>\n",
       "      <td>2813.692575</td>\n",
       "      <td>No</td>\n",
       "      <td>Basic</td>\n",
       "      <td>Bachelor</td>\n",
       "      <td>2/3/11</td>\n",
       "      <td>Employed</td>\n",
       "      <td>M</td>\n",
       "      <td>43836</td>\n",
       "      <td>...</td>\n",
       "      <td>44</td>\n",
       "      <td>0</td>\n",
       "      <td>1</td>\n",
       "      <td>Personal Auto</td>\n",
       "      <td>Personal L1</td>\n",
       "      <td>Offer1</td>\n",
       "      <td>Agent</td>\n",
       "      <td>138.130879</td>\n",
       "      <td>Four-Door Car</td>\n",
       "      <td>Medsize</td>\n",
       "    </tr>\n",
       "  </tbody>\n",
       "</table>\n",
       "<p>5 rows × 24 columns</p>\n",
       "</div>"
      ],
      "text/plain": [
       "  Customer       State  Customer Lifetime Value Response  Coverage Education  \\\n",
       "0  BU79786  Washington              2763.519279       No     Basic  Bachelor   \n",
       "1  QZ44356     Arizona              6979.535903       No  Extended  Bachelor   \n",
       "2  AI49188      Nevada             12887.431650       No   Premium  Bachelor   \n",
       "3  WW63253  California              7645.861827       No     Basic  Bachelor   \n",
       "4  HB64268  Washington              2813.692575       No     Basic  Bachelor   \n",
       "\n",
       "  Effective To Date EmploymentStatus Gender  Income     ...       \\\n",
       "0           2/24/11         Employed      F   56274     ...        \n",
       "1           1/31/11       Unemployed      F       0     ...        \n",
       "2           2/19/11         Employed      F   48767     ...        \n",
       "3           1/20/11       Unemployed      M       0     ...        \n",
       "4            2/3/11         Employed      M   43836     ...        \n",
       "\n",
       "  Months Since Policy Inception Number of Open Complaints  Number of Policies  \\\n",
       "0                             5                         0                   1   \n",
       "1                            42                         0                   8   \n",
       "2                            38                         0                   2   \n",
       "3                            65                         0                   7   \n",
       "4                            44                         0                   1   \n",
       "\n",
       "      Policy Type        Policy  Renew Offer Type  Sales Channel  \\\n",
       "0  Corporate Auto  Corporate L3            Offer1          Agent   \n",
       "1   Personal Auto   Personal L3            Offer3          Agent   \n",
       "2   Personal Auto   Personal L3            Offer1          Agent   \n",
       "3  Corporate Auto  Corporate L2            Offer1    Call Center   \n",
       "4   Personal Auto   Personal L1            Offer1          Agent   \n",
       "\n",
       "  Total Claim Amount  Vehicle Class Vehicle Size  \n",
       "0         384.811147   Two-Door Car      Medsize  \n",
       "1        1131.464935  Four-Door Car      Medsize  \n",
       "2         566.472247   Two-Door Car      Medsize  \n",
       "3         529.881344            SUV      Medsize  \n",
       "4         138.130879  Four-Door Car      Medsize  \n",
       "\n",
       "[5 rows x 24 columns]"
      ]
     },
     "execution_count": 117,
     "metadata": {},
     "output_type": "execute_result"
    }
   ],
   "source": [
    "df.head()"
   ]
  },
  {
   "cell_type": "code",
   "execution_count": 118,
   "metadata": {},
   "outputs": [
    {
     "data": {
      "text/plain": [
       "(9134, 24)"
      ]
     },
     "execution_count": 118,
     "metadata": {},
     "output_type": "execute_result"
    }
   ],
   "source": [
    "df.shape #9134 rows and 24 columns"
   ]
  },
  {
   "cell_type": "code",
   "execution_count": 119,
   "metadata": {},
   "outputs": [],
   "source": [
    "df.Response = df.Response.apply(lambda X : 0 if X == 'No' else 1)"
   ]
  },
  {
   "cell_type": "code",
   "execution_count": 120,
   "metadata": {},
   "outputs": [
    {
     "data": {
      "text/html": [
       "<div>\n",
       "<style scoped>\n",
       "    .dataframe tbody tr th:only-of-type {\n",
       "        vertical-align: middle;\n",
       "    }\n",
       "\n",
       "    .dataframe tbody tr th {\n",
       "        vertical-align: top;\n",
       "    }\n",
       "\n",
       "    .dataframe thead th {\n",
       "        text-align: right;\n",
       "    }\n",
       "</style>\n",
       "<table border=\"1\" class=\"dataframe\">\n",
       "  <thead>\n",
       "    <tr style=\"text-align: right;\">\n",
       "      <th></th>\n",
       "      <th>Customer</th>\n",
       "      <th>State</th>\n",
       "      <th>Customer Lifetime Value</th>\n",
       "      <th>Response</th>\n",
       "      <th>Coverage</th>\n",
       "      <th>Education</th>\n",
       "      <th>Effective To Date</th>\n",
       "      <th>EmploymentStatus</th>\n",
       "      <th>Gender</th>\n",
       "      <th>Income</th>\n",
       "      <th>...</th>\n",
       "      <th>Months Since Policy Inception</th>\n",
       "      <th>Number of Open Complaints</th>\n",
       "      <th>Number of Policies</th>\n",
       "      <th>Policy Type</th>\n",
       "      <th>Policy</th>\n",
       "      <th>Renew Offer Type</th>\n",
       "      <th>Sales Channel</th>\n",
       "      <th>Total Claim Amount</th>\n",
       "      <th>Vehicle Class</th>\n",
       "      <th>Vehicle Size</th>\n",
       "    </tr>\n",
       "  </thead>\n",
       "  <tbody>\n",
       "    <tr>\n",
       "      <th>0</th>\n",
       "      <td>BU79786</td>\n",
       "      <td>Washington</td>\n",
       "      <td>2763.519279</td>\n",
       "      <td>0</td>\n",
       "      <td>Basic</td>\n",
       "      <td>Bachelor</td>\n",
       "      <td>2/24/11</td>\n",
       "      <td>Employed</td>\n",
       "      <td>F</td>\n",
       "      <td>56274</td>\n",
       "      <td>...</td>\n",
       "      <td>5</td>\n",
       "      <td>0</td>\n",
       "      <td>1</td>\n",
       "      <td>Corporate Auto</td>\n",
       "      <td>Corporate L3</td>\n",
       "      <td>Offer1</td>\n",
       "      <td>Agent</td>\n",
       "      <td>384.811147</td>\n",
       "      <td>Two-Door Car</td>\n",
       "      <td>Medsize</td>\n",
       "    </tr>\n",
       "    <tr>\n",
       "      <th>1</th>\n",
       "      <td>QZ44356</td>\n",
       "      <td>Arizona</td>\n",
       "      <td>6979.535903</td>\n",
       "      <td>0</td>\n",
       "      <td>Extended</td>\n",
       "      <td>Bachelor</td>\n",
       "      <td>1/31/11</td>\n",
       "      <td>Unemployed</td>\n",
       "      <td>F</td>\n",
       "      <td>0</td>\n",
       "      <td>...</td>\n",
       "      <td>42</td>\n",
       "      <td>0</td>\n",
       "      <td>8</td>\n",
       "      <td>Personal Auto</td>\n",
       "      <td>Personal L3</td>\n",
       "      <td>Offer3</td>\n",
       "      <td>Agent</td>\n",
       "      <td>1131.464935</td>\n",
       "      <td>Four-Door Car</td>\n",
       "      <td>Medsize</td>\n",
       "    </tr>\n",
       "    <tr>\n",
       "      <th>2</th>\n",
       "      <td>AI49188</td>\n",
       "      <td>Nevada</td>\n",
       "      <td>12887.431650</td>\n",
       "      <td>0</td>\n",
       "      <td>Premium</td>\n",
       "      <td>Bachelor</td>\n",
       "      <td>2/19/11</td>\n",
       "      <td>Employed</td>\n",
       "      <td>F</td>\n",
       "      <td>48767</td>\n",
       "      <td>...</td>\n",
       "      <td>38</td>\n",
       "      <td>0</td>\n",
       "      <td>2</td>\n",
       "      <td>Personal Auto</td>\n",
       "      <td>Personal L3</td>\n",
       "      <td>Offer1</td>\n",
       "      <td>Agent</td>\n",
       "      <td>566.472247</td>\n",
       "      <td>Two-Door Car</td>\n",
       "      <td>Medsize</td>\n",
       "    </tr>\n",
       "    <tr>\n",
       "      <th>3</th>\n",
       "      <td>WW63253</td>\n",
       "      <td>California</td>\n",
       "      <td>7645.861827</td>\n",
       "      <td>0</td>\n",
       "      <td>Basic</td>\n",
       "      <td>Bachelor</td>\n",
       "      <td>1/20/11</td>\n",
       "      <td>Unemployed</td>\n",
       "      <td>M</td>\n",
       "      <td>0</td>\n",
       "      <td>...</td>\n",
       "      <td>65</td>\n",
       "      <td>0</td>\n",
       "      <td>7</td>\n",
       "      <td>Corporate Auto</td>\n",
       "      <td>Corporate L2</td>\n",
       "      <td>Offer1</td>\n",
       "      <td>Call Center</td>\n",
       "      <td>529.881344</td>\n",
       "      <td>SUV</td>\n",
       "      <td>Medsize</td>\n",
       "    </tr>\n",
       "    <tr>\n",
       "      <th>4</th>\n",
       "      <td>HB64268</td>\n",
       "      <td>Washington</td>\n",
       "      <td>2813.692575</td>\n",
       "      <td>0</td>\n",
       "      <td>Basic</td>\n",
       "      <td>Bachelor</td>\n",
       "      <td>2/3/11</td>\n",
       "      <td>Employed</td>\n",
       "      <td>M</td>\n",
       "      <td>43836</td>\n",
       "      <td>...</td>\n",
       "      <td>44</td>\n",
       "      <td>0</td>\n",
       "      <td>1</td>\n",
       "      <td>Personal Auto</td>\n",
       "      <td>Personal L1</td>\n",
       "      <td>Offer1</td>\n",
       "      <td>Agent</td>\n",
       "      <td>138.130879</td>\n",
       "      <td>Four-Door Car</td>\n",
       "      <td>Medsize</td>\n",
       "    </tr>\n",
       "  </tbody>\n",
       "</table>\n",
       "<p>5 rows × 24 columns</p>\n",
       "</div>"
      ],
      "text/plain": [
       "  Customer       State  Customer Lifetime Value  Response  Coverage Education  \\\n",
       "0  BU79786  Washington              2763.519279         0     Basic  Bachelor   \n",
       "1  QZ44356     Arizona              6979.535903         0  Extended  Bachelor   \n",
       "2  AI49188      Nevada             12887.431650         0   Premium  Bachelor   \n",
       "3  WW63253  California              7645.861827         0     Basic  Bachelor   \n",
       "4  HB64268  Washington              2813.692575         0     Basic  Bachelor   \n",
       "\n",
       "  Effective To Date EmploymentStatus Gender  Income     ...       \\\n",
       "0           2/24/11         Employed      F   56274     ...        \n",
       "1           1/31/11       Unemployed      F       0     ...        \n",
       "2           2/19/11         Employed      F   48767     ...        \n",
       "3           1/20/11       Unemployed      M       0     ...        \n",
       "4            2/3/11         Employed      M   43836     ...        \n",
       "\n",
       "  Months Since Policy Inception Number of Open Complaints  Number of Policies  \\\n",
       "0                             5                         0                   1   \n",
       "1                            42                         0                   8   \n",
       "2                            38                         0                   2   \n",
       "3                            65                         0                   7   \n",
       "4                            44                         0                   1   \n",
       "\n",
       "      Policy Type        Policy  Renew Offer Type  Sales Channel  \\\n",
       "0  Corporate Auto  Corporate L3            Offer1          Agent   \n",
       "1   Personal Auto   Personal L3            Offer3          Agent   \n",
       "2   Personal Auto   Personal L3            Offer1          Agent   \n",
       "3  Corporate Auto  Corporate L2            Offer1    Call Center   \n",
       "4   Personal Auto   Personal L1            Offer1          Agent   \n",
       "\n",
       "  Total Claim Amount  Vehicle Class Vehicle Size  \n",
       "0         384.811147   Two-Door Car      Medsize  \n",
       "1        1131.464935  Four-Door Car      Medsize  \n",
       "2         566.472247   Two-Door Car      Medsize  \n",
       "3         529.881344            SUV      Medsize  \n",
       "4         138.130879  Four-Door Car      Medsize  \n",
       "\n",
       "[5 rows x 24 columns]"
      ]
     },
     "execution_count": 120,
     "metadata": {},
     "output_type": "execute_result"
    }
   ],
   "source": [
    "df.head()"
   ]
  },
  {
   "cell_type": "markdown",
   "metadata": {},
   "source": [
    "# Part 2: Exploratory Analysis "
   ]
  },
  {
   "cell_type": "code",
   "execution_count": 121,
   "metadata": {},
   "outputs": [
    {
     "name": "stdout",
     "output_type": "stream",
     "text": [
      "<class 'pandas.core.frame.DataFrame'>\n",
      "RangeIndex: 9134 entries, 0 to 9133\n",
      "Data columns (total 24 columns):\n",
      "Customer                         9134 non-null object\n",
      "State                            9134 non-null object\n",
      "Customer Lifetime Value          9134 non-null float64\n",
      "Response                         9134 non-null int64\n",
      "Coverage                         9134 non-null object\n",
      "Education                        9134 non-null object\n",
      "Effective To Date                9134 non-null object\n",
      "EmploymentStatus                 9134 non-null object\n",
      "Gender                           9134 non-null object\n",
      "Income                           9134 non-null int64\n",
      "Location Code                    9134 non-null object\n",
      "Marital Status                   9134 non-null object\n",
      "Monthly Premium Auto             9134 non-null int64\n",
      "Months Since Last Claim          9134 non-null int64\n",
      "Months Since Policy Inception    9134 non-null int64\n",
      "Number of Open Complaints        9134 non-null int64\n",
      "Number of Policies               9134 non-null int64\n",
      "Policy Type                      9134 non-null object\n",
      "Policy                           9134 non-null object\n",
      "Renew Offer Type                 9134 non-null object\n",
      "Sales Channel                    9134 non-null object\n",
      "Total Claim Amount               9134 non-null float64\n",
      "Vehicle Class                    9134 non-null object\n",
      "Vehicle Size                     9134 non-null object\n",
      "dtypes: float64(2), int64(7), object(15)\n",
      "memory usage: 1.7+ MB\n"
     ]
    }
   ],
   "source": [
    "df.info() "
   ]
  },
  {
   "cell_type": "code",
   "execution_count": 122,
   "metadata": {},
   "outputs": [
    {
     "data": {
      "text/plain": [
       "Customer                         0\n",
       "State                            0\n",
       "Customer Lifetime Value          0\n",
       "Response                         0\n",
       "Coverage                         0\n",
       "Education                        0\n",
       "Effective To Date                0\n",
       "EmploymentStatus                 0\n",
       "Gender                           0\n",
       "Income                           0\n",
       "Location Code                    0\n",
       "Marital Status                   0\n",
       "Monthly Premium Auto             0\n",
       "Months Since Last Claim          0\n",
       "Months Since Policy Inception    0\n",
       "Number of Open Complaints        0\n",
       "Number of Policies               0\n",
       "Policy Type                      0\n",
       "Policy                           0\n",
       "Renew Offer Type                 0\n",
       "Sales Channel                    0\n",
       "Total Claim Amount               0\n",
       "Vehicle Class                    0\n",
       "Vehicle Size                     0\n",
       "dtype: int64"
      ]
     },
     "execution_count": 122,
     "metadata": {},
     "output_type": "execute_result"
    }
   ],
   "source": [
    "df.isnull().sum()#counting NaaN values"
   ]
  },
  {
   "cell_type": "code",
   "execution_count": 123,
   "metadata": {},
   "outputs": [
    {
     "data": {
      "text/plain": [
       "<bound method NDFrame.describe of      Customer       State  Customer Lifetime Value  Response  Coverage  \\\n",
       "0     BU79786  Washington              2763.519279         0     Basic   \n",
       "1     QZ44356     Arizona              6979.535903         0  Extended   \n",
       "2     AI49188      Nevada             12887.431650         0   Premium   \n",
       "3     WW63253  California              7645.861827         0     Basic   \n",
       "4     HB64268  Washington              2813.692575         0     Basic   \n",
       "5     OC83172      Oregon              8256.297800         1     Basic   \n",
       "6     XZ87318      Oregon              5380.898636         1     Basic   \n",
       "7     CF85061     Arizona              7216.100311         0   Premium   \n",
       "8     DY87989      Oregon             24127.504020         1     Basic   \n",
       "9     BQ94931      Oregon              7388.178085         0  Extended   \n",
       "10    SX51350  California              4738.992022         0     Basic   \n",
       "11    VQ65197  California              8197.197078         0     Basic   \n",
       "12    DP39365  California              8798.797003         0   Premium   \n",
       "13    SJ95423     Arizona              8819.018934         1     Basic   \n",
       "14    IL66569  California              5384.431665         0     Basic   \n",
       "15    BW63560      Oregon              7463.139377         0     Basic   \n",
       "16    FV94802      Nevada              2566.867823         0     Basic   \n",
       "17    OE15005  California              3945.241604         0     Basic   \n",
       "18    WC83389      Oregon              5710.333115         0     Basic   \n",
       "19    FL50705  California              8162.617053         0   Premium   \n",
       "20    ZK25313      Oregon              2872.051273         0     Basic   \n",
       "21    SV62436  Washington              3041.791561         0  Extended   \n",
       "22    YH23384     Arizona             24127.504020         1     Basic   \n",
       "23    TZ98966      Nevada              2450.190996         0     Basic   \n",
       "24    HM55802  California              2392.107890         0     Basic   \n",
       "25    FS42516      Oregon              5802.065978         0     Basic   \n",
       "26    US89481  California              3946.372085         0   Premium   \n",
       "27    HO30839  Washington              5346.916576         0  Extended   \n",
       "28    GE62437     Arizona             12902.560140         0   Premium   \n",
       "29    EJ77678      Oregon              3235.360468         0  Extended   \n",
       "...       ...         ...                      ...       ...       ...   \n",
       "9104  LM97847  California              2615.139220         0     Basic   \n",
       "9105  IK96366  California              5551.398167         0  Extended   \n",
       "9106  SJ86522  California              6827.044423         0     Basic   \n",
       "9107  UU42868  California              5619.689084         1   Premium   \n",
       "9108  GX11087  California              3907.028747         0     Basic   \n",
       "9109  JR41742  California              3622.872124         0     Basic   \n",
       "9110  RA89822  California             34611.378960         1     Basic   \n",
       "9111  IJ25462  California              2845.520933         0     Basic   \n",
       "9112  ZP86347  California              5500.577411         0  Extended   \n",
       "9113  HO82823  California              3358.532935         0  Extended   \n",
       "9114  EA54906  California              7501.661322         0  Extended   \n",
       "9115  BC64697  California             11663.985720         0   Premium   \n",
       "9116  VV68726  California              5133.397765         0     Basic   \n",
       "9117  QR91631  California              8732.090534         0     Basic   \n",
       "9118  OT56964  California              9424.256842         0     Basic   \n",
       "9119  YX35990  California              5479.555081         1     Basic   \n",
       "9120  RN61682  California              2114.738469         0     Basic   \n",
       "9121  BB10681  California              4140.648654         0  Extended   \n",
       "9122  FH43628  California             25464.820590         1  Extended   \n",
       "9123  WZ45103  California              5678.050167         1  Extended   \n",
       "9124  CB59349  California             16261.585500         0  Extended   \n",
       "9125  RX91025  California             19872.262000         0   Premium   \n",
       "9126  AC13887  California              4628.995325         0     Basic   \n",
       "9127  TF56202  California              5032.165498         0     Basic   \n",
       "9128  YM19146  California              4100.398533         0   Premium   \n",
       "9129  LA72316  California             23405.987980         0     Basic   \n",
       "9130  PK87824  California              3096.511217         1  Extended   \n",
       "9131  TD14365  California              8163.890428         0  Extended   \n",
       "9132  UP19263  California              7524.442436         0  Extended   \n",
       "9133  Y167826  California              2611.836866         0  Extended   \n",
       "\n",
       "                 Education Effective To Date EmploymentStatus Gender  Income  \\\n",
       "0                 Bachelor           2/24/11         Employed      F   56274   \n",
       "1                 Bachelor           1/31/11       Unemployed      F       0   \n",
       "2                 Bachelor           2/19/11         Employed      F   48767   \n",
       "3                 Bachelor           1/20/11       Unemployed      M       0   \n",
       "4                 Bachelor            2/3/11         Employed      M   43836   \n",
       "5                 Bachelor           1/25/11         Employed      F   62902   \n",
       "6                  College           2/24/11         Employed      F   55350   \n",
       "7                   Master           1/18/11       Unemployed      M       0   \n",
       "8                 Bachelor           1/26/11    Medical Leave      M   14072   \n",
       "9                  College           2/17/11         Employed      F   28812   \n",
       "10                 College           2/21/11       Unemployed      M       0   \n",
       "11                 College            1/6/11       Unemployed      F       0   \n",
       "12                  Master            2/6/11         Employed      M   77026   \n",
       "13    High School or Below           1/10/11         Employed      M   99845   \n",
       "14                 College           1/18/11         Employed      M   83689   \n",
       "15                Bachelor           1/17/11         Employed      F   24599   \n",
       "16    High School or Below            2/6/11    Medical Leave      M   25049   \n",
       "17                 College            1/5/11    Medical Leave      M   28855   \n",
       "18                 College           2/27/11         Employed      M   51148   \n",
       "19    High School or Below           1/14/11         Employed      F   66140   \n",
       "20    High School or Below           2/19/11         Employed      M   57749   \n",
       "21                Bachelor           1/21/11         Disabled      F   13789   \n",
       "22                Bachelor           1/26/11    Medical Leave      M   14072   \n",
       "23                Bachelor           2/24/11       Unemployed      F       0   \n",
       "24                Bachelor            2/5/11         Disabled      F   17870   \n",
       "25                 College           1/29/11         Employed      M   97541   \n",
       "26                Bachelor           2/28/11       Unemployed      F       0   \n",
       "27                  Master           2/12/11         Disabled      F   10511   \n",
       "28                 College            2/2/11         Employed      F   86584   \n",
       "29                  Master            2/7/11         Employed      F   75690   \n",
       "...                    ...               ...              ...    ...     ...   \n",
       "9104               College            1/9/11         Employed      M   57023   \n",
       "9105               College           2/22/11         Employed      M   36918   \n",
       "9106  High School or Below           1/12/11       Unemployed      M       0   \n",
       "9107  High School or Below           1/26/11       Unemployed      M       0   \n",
       "9108  High School or Below           1/28/11       Unemployed      F       0   \n",
       "9109               College           1/25/11       Unemployed      M       0   \n",
       "9110  High School or Below           1/14/11         Employed      F   20090   \n",
       "9111              Bachelor            2/7/11         Employed      M   86631   \n",
       "9112               College           2/12/11         Employed      F   44019   \n",
       "9113              Bachelor            1/6/11         Employed      F   59367   \n",
       "9114  High School or Below           2/23/11         Employed      F   38874   \n",
       "9115               College           2/17/11       Unemployed      F       0   \n",
       "9116  High School or Below           1/26/11         Disabled      F   28647   \n",
       "9117  High School or Below           1/20/11         Employed      F   51205   \n",
       "9118                Master           2/10/11         Employed      M   46897   \n",
       "9119                Master           1/13/11         Employed      M   56005   \n",
       "9120              Bachelor           2/19/11       Unemployed      F       0   \n",
       "9121               College           1/17/11       Unemployed      F       0   \n",
       "9122               College            2/1/11          Retired      F   13663   \n",
       "9123              Bachelor           1/19/11       Unemployed      F       0   \n",
       "9124                Master           1/20/11         Employed      M   60646   \n",
       "9125  High School or Below           1/31/11       Unemployed      M       0   \n",
       "9126              Bachelor            1/9/11       Unemployed      M       0   \n",
       "9127               College           2/12/11         Employed      M   66367   \n",
       "9128               College            1/6/11         Employed      F   47761   \n",
       "9129              Bachelor           2/10/11         Employed      M   71941   \n",
       "9130               College           2/12/11         Employed      F   21604   \n",
       "9131              Bachelor            2/6/11       Unemployed      M       0   \n",
       "9132               College            2/3/11         Employed      M   21941   \n",
       "9133               College           2/14/11       Unemployed      M       0   \n",
       "\n",
       "         ...      Months Since Policy Inception Number of Open Complaints  \\\n",
       "0        ...                                  5                         0   \n",
       "1        ...                                 42                         0   \n",
       "2        ...                                 38                         0   \n",
       "3        ...                                 65                         0   \n",
       "4        ...                                 44                         0   \n",
       "5        ...                                 94                         0   \n",
       "6        ...                                 13                         0   \n",
       "7        ...                                 68                         0   \n",
       "8        ...                                  3                         0   \n",
       "9        ...                                  7                         0   \n",
       "10       ...                                  5                         0   \n",
       "11       ...                                 87                         0   \n",
       "12       ...                                 82                         2   \n",
       "13       ...                                 25                         1   \n",
       "14       ...                                 10                         2   \n",
       "15       ...                                 50                         1   \n",
       "16       ...                                  7                         0   \n",
       "17       ...                                 59                         0   \n",
       "18       ...                                  1                         0   \n",
       "19       ...                                 21                         0   \n",
       "20       ...                                 21                         0   \n",
       "21       ...                                 49                         0   \n",
       "22       ...                                  3                         0   \n",
       "23       ...                                 44                         3   \n",
       "24       ...                                 91                         0   \n",
       "25       ...                                  1                         0   \n",
       "26       ...                                 47                         0   \n",
       "27       ...                                 64                         0   \n",
       "28       ...                                 54                         2   \n",
       "29       ...                                 44                         1   \n",
       "...      ...                                ...                       ...   \n",
       "9104     ...                                 59                         0   \n",
       "9105     ...                                 77                         3   \n",
       "9106     ...                                 26                         0   \n",
       "9107     ...                                  5                         0   \n",
       "9108     ...                                  8                         0   \n",
       "9109     ...                                 52                         0   \n",
       "9110     ...                                 59                         0   \n",
       "9111     ...                                 44                         1   \n",
       "9112     ...                                 60                         0   \n",
       "9113     ...                                 48                         0   \n",
       "9114     ...                                 86                         0   \n",
       "9115     ...                                 34                         0   \n",
       "9116     ...                                 59                         0   \n",
       "9117     ...                                 52                         0   \n",
       "9118     ...                                 11                         0   \n",
       "9119     ...                                 30                         1   \n",
       "9120     ...                                 69                         5   \n",
       "9121     ...                                 35                         2   \n",
       "9122     ...                                 66                         0   \n",
       "9123     ...                                 44                         0   \n",
       "9124     ...                                 42                         0   \n",
       "9125     ...                                 35                         0   \n",
       "9126     ...                                 21                         0   \n",
       "9127     ...                                 48                         0   \n",
       "9128     ...                                 58                         0   \n",
       "9129     ...                                 89                         0   \n",
       "9130     ...                                 28                         0   \n",
       "9131     ...                                 37                         3   \n",
       "9132     ...                                  3                         0   \n",
       "9133     ...                                 90                         0   \n",
       "\n",
       "      Number of Policies     Policy Type        Policy  Renew Offer Type  \\\n",
       "0                      1  Corporate Auto  Corporate L3            Offer1   \n",
       "1                      8   Personal Auto   Personal L3            Offer3   \n",
       "2                      2   Personal Auto   Personal L3            Offer1   \n",
       "3                      7  Corporate Auto  Corporate L2            Offer1   \n",
       "4                      1   Personal Auto   Personal L1            Offer1   \n",
       "5                      2   Personal Auto   Personal L3            Offer2   \n",
       "6                      9  Corporate Auto  Corporate L3            Offer1   \n",
       "7                      4  Corporate Auto  Corporate L3            Offer1   \n",
       "8                      2  Corporate Auto  Corporate L3            Offer1   \n",
       "9                      8    Special Auto    Special L2            Offer2   \n",
       "10                     3   Personal Auto   Personal L3            Offer1   \n",
       "11                     3   Personal Auto   Personal L3            Offer2   \n",
       "12                     3  Corporate Auto  Corporate L1            Offer2   \n",
       "13                     8  Corporate Auto  Corporate L3            Offer2   \n",
       "14                     8  Corporate Auto  Corporate L3            Offer4   \n",
       "15                     2  Corporate Auto  Corporate L2            Offer2   \n",
       "16                     1   Personal Auto   Personal L3            Offer2   \n",
       "17                     1   Personal Auto   Personal L2            Offer3   \n",
       "18                     7   Personal Auto   Personal L2            Offer2   \n",
       "19                     3  Corporate Auto  Corporate L2            Offer1   \n",
       "20                     1   Personal Auto   Personal L2            Offer1   \n",
       "21                     1   Personal Auto   Personal L3            Offer4   \n",
       "22                     2   Personal Auto   Personal L3            Offer1   \n",
       "23                     1  Corporate Auto  Corporate L3            Offer1   \n",
       "24                     1  Corporate Auto  Corporate L2            Offer2   \n",
       "25                     3   Personal Auto   Personal L3            Offer2   \n",
       "26                     1   Personal Auto   Personal L3            Offer1   \n",
       "27                     1  Corporate Auto  Corporate L1            Offer1   \n",
       "28                     2   Personal Auto   Personal L3            Offer1   \n",
       "29                     1   Personal Auto   Personal L3            Offer2   \n",
       "...                  ...             ...           ...               ...   \n",
       "9104                   1   Personal Auto   Personal L2            Offer2   \n",
       "9105                   3   Personal Auto   Personal L1            Offer1   \n",
       "9106                   9  Corporate Auto  Corporate L3            Offer2   \n",
       "9107                   1  Corporate Auto  Corporate L2            Offer2   \n",
       "9108                   1   Personal Auto   Personal L2            Offer1   \n",
       "9109                   1  Corporate Auto  Corporate L3            Offer1   \n",
       "9110                   2   Personal Auto   Personal L2            Offer2   \n",
       "9111                   1   Personal Auto   Personal L2            Offer3   \n",
       "9112                   1   Personal Auto   Personal L3            Offer3   \n",
       "9113                   1   Personal Auto   Personal L3            Offer2   \n",
       "9114                   3  Corporate Auto  Corporate L1            Offer2   \n",
       "9115                   2   Personal Auto   Personal L3            Offer3   \n",
       "9116                   3   Personal Auto   Personal L2            Offer1   \n",
       "9117                   2   Personal Auto   Personal L1            Offer2   \n",
       "9118                   3  Corporate Auto  Corporate L3            Offer1   \n",
       "9119                   3  Corporate Auto  Corporate L2            Offer1   \n",
       "9120                   1   Personal Auto   Personal L2            Offer3   \n",
       "9121                   1  Corporate Auto  Corporate L3            Offer1   \n",
       "9122                   2   Personal Auto   Personal L2            Offer1   \n",
       "9123                   3   Personal Auto   Personal L2            Offer2   \n",
       "9124                   2   Personal Auto   Personal L3            Offer2   \n",
       "9125                   2   Personal Auto   Personal L3            Offer1   \n",
       "9126                   4  Corporate Auto  Corporate L1            Offer1   \n",
       "9127                   3   Personal Auto   Personal L3            Offer2   \n",
       "9128                   1   Personal Auto   Personal L2            Offer1   \n",
       "9129                   2   Personal Auto   Personal L1            Offer2   \n",
       "9130                   1  Corporate Auto  Corporate L3            Offer1   \n",
       "9131                   2  Corporate Auto  Corporate L2            Offer1   \n",
       "9132                   3   Personal Auto   Personal L2            Offer3   \n",
       "9133                   1  Corporate Auto  Corporate L3            Offer4   \n",
       "\n",
       "      Sales Channel Total Claim Amount  Vehicle Class Vehicle Size  \n",
       "0             Agent         384.811147   Two-Door Car      Medsize  \n",
       "1             Agent        1131.464935  Four-Door Car      Medsize  \n",
       "2             Agent         566.472247   Two-Door Car      Medsize  \n",
       "3       Call Center         529.881344            SUV      Medsize  \n",
       "4             Agent         138.130879  Four-Door Car      Medsize  \n",
       "5               Web         159.383042   Two-Door Car      Medsize  \n",
       "6             Agent         321.600000  Four-Door Car      Medsize  \n",
       "7             Agent         363.029680  Four-Door Car      Medsize  \n",
       "8             Agent         511.200000  Four-Door Car      Medsize  \n",
       "9            Branch         425.527834  Four-Door Car      Medsize  \n",
       "10            Agent         482.400000  Four-Door Car        Small  \n",
       "11            Agent         528.000000            SUV      Medsize  \n",
       "12            Agent         472.029737  Four-Door Car      Medsize  \n",
       "13           Branch         528.000000            SUV      Medsize  \n",
       "14      Call Center         307.139132  Four-Door Car      Medsize  \n",
       "15           Branch          42.920271  Four-Door Car      Medsize  \n",
       "16      Call Center         454.245098   Two-Door Car      Medsize  \n",
       "17      Call Center         647.442031            SUV      Medsize  \n",
       "18           Branch         308.981664  Four-Door Car      Medsize  \n",
       "19      Call Center         484.800000  Four-Door Car        Small  \n",
       "20           Branch         355.200000   Two-Door Car      Medsize  \n",
       "21      Call Center         379.200000  Four-Door Car      Medsize  \n",
       "22            Agent         511.200000  Four-Door Car      Medsize  \n",
       "23           Branch         554.376763  Four-Door Car      Medsize  \n",
       "24           Branch         439.200000  Four-Door Car      Medsize  \n",
       "25      Call Center         389.185006  Four-Door Car        Large  \n",
       "26            Agent         799.200000  Four-Door Car        Small  \n",
       "27           Branch         516.237951            SUV      Medsize  \n",
       "28      Call Center         532.800000  Four-Door Car        Large  \n",
       "29           Branch         384.000000  Four-Door Car        Small  \n",
       "...             ...                ...            ...          ...  \n",
       "9104          Agent         250.652309  Four-Door Car      Medsize  \n",
       "9105         Branch         364.800000   Two-Door Car      Medsize  \n",
       "9106          Agent         956.689634            SUV      Medsize  \n",
       "9107            Web        1027.000029            SUV      Medsize  \n",
       "9108          Agent         666.042098            SUV      Medsize  \n",
       "9109         Branch        1254.177129            SUV      Medsize  \n",
       "9110          Agent         523.200000     Sports Car      Medsize  \n",
       "9111          Agent         400.832857  Four-Door Car        Small  \n",
       "9112          Agent         165.478147            SUV      Medsize  \n",
       "9113          Agent           6.880385  Four-Door Car      Medsize  \n",
       "9114         Branch         331.170924  Four-Door Car      Medsize  \n",
       "9115    Call Center         513.600000  Four-Door Car        Small  \n",
       "9116          Agent         331.200000  Four-Door Car        Small  \n",
       "9117         Branch         185.530076   Two-Door Car      Medsize  \n",
       "9118          Agent         322.575677            SUV      Medsize  \n",
       "9119         Branch         326.400000  Four-Door Car        Small  \n",
       "9120            Web         518.400000  Four-Door Car      Medsize  \n",
       "9121         Branch         590.400000            SUV      Medsize  \n",
       "9122         Branch         465.600000  Four-Door Car        Small  \n",
       "9123          Agent         364.800000  Four-Door Car        Small  \n",
       "9124          Agent         643.200000            SUV      Medsize  \n",
       "9125          Agent        1950.725547            SUV        Small  \n",
       "9126         Branch         482.400000   Two-Door Car      Medsize  \n",
       "9127    Call Center         307.200000   Two-Door Car        Small  \n",
       "9128         Branch         541.282007  Four-Door Car        Large  \n",
       "9129            Web         198.234764  Four-Door Car      Medsize  \n",
       "9130         Branch         379.200000  Four-Door Car      Medsize  \n",
       "9131         Branch         790.784983  Four-Door Car      Medsize  \n",
       "9132         Branch         691.200000  Four-Door Car        Large  \n",
       "9133    Call Center         369.600000   Two-Door Car      Medsize  \n",
       "\n",
       "[9134 rows x 24 columns]>"
      ]
     },
     "execution_count": 123,
     "metadata": {},
     "output_type": "execute_result"
    }
   ],
   "source": [
    "df.describe"
   ]
  },
  {
   "cell_type": "markdown",
   "metadata": {},
   "source": [
    "# 2.1 Response Rate:¶"
   ]
  },
  {
   "cell_type": "code",
   "execution_count": 124,
   "metadata": {},
   "outputs": [
    {
     "data": {
      "image/png": "[encoded data removed]",
      "text/plain": [
       "<Figure size 432x288 with 1 Axes>"
      ]
     },
     "metadata": {},
     "output_type": "display_data"
    }
   ],
   "source": [
    "ax = sns.countplot('Response', data = df)\n",
    "plt.ylabel('Total number of response')\n",
    "annot_plot(ax, 0.08, 1)\n",
    "plt.show()"
   ]
  },
  {
   "cell_type": "markdown",
   "metadata": {},
   "source": [
    "The above barchart shows that 85.65% of customers have not responsed to marketing calls and 14.32% did respond. "
   ]
  },
  {
   "cell_type": "markdown",
   "metadata": {},
   "source": [
    "demographics"
   ]
  },
  {
   "cell_type": "code",
   "execution_count": 125,
   "metadata": {},
   "outputs": [
    {
     "data": {
      "image/png": "[encoded data removed]",
      "text/plain": [
       "<Figure size 432x288 with 1 Axes>"
      ]
     },
     "metadata": {},
     "output_type": "display_data"
    }
   ],
   "source": [
    "ax = sns.countplot('Response',hue = 'Gender', data = df)\n",
    "plt.ylabel('Total number of Response')\n",
    "annot_plot(ax, 0.08, 1)\n",
    "plt.show()"
   ]
  },
  {
   "cell_type": "markdown",
   "metadata": {},
   "source": [
    "Notice how the reatio of male and female for responding to a markering call is almost the same."
   ]
  },
  {
   "cell_type": "code",
   "execution_count": 126,
   "metadata": {},
   "outputs": [
    {
     "data": {
      "image/png": "[encoded data removed]",
      "text/plain": [
       "<Figure size 432x288 with 1 Axes>"
      ]
     },
     "metadata": {},
     "output_type": "display_data"
    }
   ],
   "source": [
    "ax = sns.countplot('Response', hue = df['Marital Status'], data = df)\n",
    "annot_plot(ax, 0.08, 1)\n",
    "plt.show()"
   ]
  },
  {
   "cell_type": "markdown",
   "metadata": {},
   "source": [
    "Of the 14% of customers that responded ot marketing, 8% were from the married category"
   ]
  },
  {
   "cell_type": "markdown",
   "metadata": {},
   "source": [
    "# 2.1.2 Response rate by renewal offer\n"
   ]
  },
  {
   "cell_type": "code",
   "execution_count": 127,
   "metadata": {},
   "outputs": [
    {
     "data": {
      "image/png": "[encoded data removed]",
      "text/plain": [
       "<Figure size 576x288 with 1 Axes>"
      ]
     },
     "metadata": {},
     "output_type": "display_data"
    }
   ],
   "source": [
    "plt.figure(figsize=(8,4))\n",
    "ax = sns.countplot('Response',hue = 'Renew Offer Type' ,\n",
    "data = df)\n",
    "plt.ylabel('Total number of Response')\n",
    "annot_plot(ax,0.08,1)\n",
    "plt.show()"
   ]
  },
  {
   "cell_type": "markdown",
   "metadata": {},
   "source": [
    "For offer 1 and offer 2 customers have responded to marketing calls, but for offer 3 and offer 4 almost nobody responded."
   ]
  },
  {
   "cell_type": "code",
   "execution_count": 128,
   "metadata": {},
   "outputs": [
    {
     "data": {
      "image/png": "[encoded data removed]",
      "text/plain": [
       "<Figure size 576x288 with 1 Axes>"
      ]
     },
     "metadata": {},
     "output_type": "display_data"
    }
   ],
   "source": [
    "plt.figure(figsize=(8,4))\n",
    "ax = sns.countplot('Response', hue = 'Education', data = df)\n",
    "plt.ylabel('Total number of Response')\n",
    "annot_plot(ax, 0.08,1)\n",
    "plt.show()"
   ]
  },
  {
   "cell_type": "markdown",
   "metadata": {},
   "source": [
    "Above, notice that the customers with Doctor and master degrees are less than the rest in responding to marketing calls. Maybe they are too busy or are just not interested. Or maybe they are older than the others and age might play a role. "
   ]
  },
  {
   "cell_type": "markdown",
   "metadata": {},
   "source": [
    "# 2.1.3 Response rate by Sales Channel"
   ]
  },
  {
   "cell_type": "code",
   "execution_count": 129,
   "metadata": {},
   "outputs": [
    {
     "data": {
      "image/png": "[encoded data removed]",
      "text/plain": [
       "<Figure size 576x288 with 1 Axes>"
      ]
     },
     "metadata": {},
     "output_type": "display_data"
    }
   ],
   "source": [
    "plt.figure(figsize=(8,4))\n",
    "ax = sns.countplot('Response', hue = 'Sales Channel', data =df)\n",
    "plt.ylabel('Total number of Response')\n",
    "annot_plot(ax, 0.08, 1)\n",
    "plt.show()\n"
   ]
  },
  {
   "cell_type": "markdown",
   "metadata": {},
   "source": [
    "You can run response reates for most of the columns but I'm most curious about sales."
   ]
  },
  {
   "cell_type": "markdown",
   "metadata": {},
   "source": [
    "# 3 Regression Analysis with Continuous Variables Only"
   ]
  },
  {
   "cell_type": "code",
   "execution_count": 130,
   "metadata": {},
   "outputs": [],
   "source": [
    "import statsmodels.api as sm"
   ]
  },
  {
   "cell_type": "code",
   "execution_count": 131,
   "metadata": {},
   "outputs": [
    {
     "data": {
      "text/plain": [
       "Customer Lifetime Value          8041\n",
       "Response                            2\n",
       "Income                           5694\n",
       "Monthly Premium Auto              202\n",
       "Months Since Last Claim            36\n",
       "Months Since Policy Inception     100\n",
       "Number of Open Complaints           6\n",
       "Number of Policies                  9\n",
       "Total Claim Amount               5106\n",
       "dtype: int64"
      ]
     },
     "execution_count": 131,
     "metadata": {},
     "output_type": "execute_result"
    }
   ],
   "source": [
    "continuous_var_df = df.select_dtypes(include=['int64', 'float'])\n",
    "continuous_var_df.nunique()"
   ]
  },
  {
   "cell_type": "code",
   "execution_count": 132,
   "metadata": {},
   "outputs": [
    {
     "data": {
      "text/plain": [
       "Index(['Customer Lifetime Value', 'Response', 'Income', 'Monthly Premium Auto',\n",
       "       'Months Since Last Claim', 'Months Since Policy Inception',\n",
       "       'Number of Open Complaints', 'Number of Policies',\n",
       "       'Total Claim Amount'],\n",
       "      dtype='object')"
      ]
     },
     "execution_count": 132,
     "metadata": {},
     "output_type": "execute_result"
    }
   ],
   "source": [
    "continuous_var_df.columns"
   ]
  },
  {
   "cell_type": "code",
   "execution_count": 133,
   "metadata": {},
   "outputs": [],
   "source": [
    "continuous_var_reg = sm.Logit(continuous_var_df['Response'], continuous_var_df.drop('Response', axis = 1))"
   ]
  },
  {
   "cell_type": "code",
   "execution_count": 134,
   "metadata": {},
   "outputs": [
    {
     "name": "stdout",
     "output_type": "stream",
     "text": [
      "Optimization terminated successfully.\n",
      "         Current function value: 0.421189\n",
      "         Iterations 6\n"
     ]
    },
    {
     "data": {
      "text/html": [
       "<table class=\"simpletable\">\n",
       "<caption>Logit Regression Results</caption>\n",
       "<tr>\n",
       "  <th>Dep. Variable:</th>     <td>Response</td>     <th>  No. Observations:  </th>  <td>  9134</td> \n",
       "</tr>\n",
       "<tr>\n",
       "  <th>Model:</th>               <td>Logit</td>      <th>  Df Residuals:      </th>  <td>  9126</td> \n",
       "</tr>\n",
       "<tr>\n",
       "  <th>Method:</th>               <td>MLE</td>       <th>  Df Model:          </th>  <td>     7</td> \n",
       "</tr>\n",
       "<tr>\n",
       "  <th>Date:</th>          <td>Thu, 03 Oct 2019</td> <th>  Pseudo R-squ.:     </th> <td>-0.02546</td>\n",
       "</tr>\n",
       "<tr>\n",
       "  <th>Time:</th>              <td>12:46:40</td>     <th>  Log-Likelihood:    </th> <td> -3847.1</td>\n",
       "</tr>\n",
       "<tr>\n",
       "  <th>converged:</th>           <td>True</td>       <th>  LL-Null:           </th> <td> -3751.6</td>\n",
       "</tr>\n",
       "<tr>\n",
       "  <th> </th>                      <td> </td>        <th>  LLR p-value:       </th>  <td> 1.000</td> \n",
       "</tr>\n",
       "</table>\n",
       "<table class=\"simpletable\">\n",
       "<tr>\n",
       "                <td></td>                   <th>coef</th>     <th>std err</th>      <th>z</th>      <th>P>|z|</th>  <th>[0.025</th>    <th>0.975]</th>  \n",
       "</tr>\n",
       "<tr>\n",
       "  <th>Customer Lifetime Value</th>       <td>-6.741e-06</td> <td> 5.04e-06</td> <td>   -1.337</td> <td> 0.181</td> <td>-1.66e-05</td> <td> 3.14e-06</td>\n",
       "</tr>\n",
       "<tr>\n",
       "  <th>Income</th>                        <td>-2.857e-06</td> <td> 1.03e-06</td> <td>   -2.766</td> <td> 0.006</td> <td>-4.88e-06</td> <td>-8.33e-07</td>\n",
       "</tr>\n",
       "<tr>\n",
       "  <th>Monthly Premium Auto</th>          <td>   -0.0084</td> <td>    0.001</td> <td>   -6.889</td> <td> 0.000</td> <td>   -0.011</td> <td>   -0.006</td>\n",
       "</tr>\n",
       "<tr>\n",
       "  <th>Months Since Last Claim</th>       <td>   -0.0202</td> <td>    0.003</td> <td>   -7.238</td> <td> 0.000</td> <td>   -0.026</td> <td>   -0.015</td>\n",
       "</tr>\n",
       "<tr>\n",
       "  <th>Months Since Policy Inception</th> <td>   -0.0060</td> <td>    0.001</td> <td>   -6.148</td> <td> 0.000</td> <td>   -0.008</td> <td>   -0.004</td>\n",
       "</tr>\n",
       "<tr>\n",
       "  <th>Number of Open Complaints</th>     <td>   -0.0829</td> <td>    0.034</td> <td>   -2.424</td> <td> 0.015</td> <td>   -0.150</td> <td>   -0.016</td>\n",
       "</tr>\n",
       "<tr>\n",
       "  <th>Number of Policies</th>            <td>   -0.0810</td> <td>    0.013</td> <td>   -6.356</td> <td> 0.000</td> <td>   -0.106</td> <td>   -0.056</td>\n",
       "</tr>\n",
       "<tr>\n",
       "  <th>Total Claim Amount</th>            <td>    0.0001</td> <td>    0.000</td> <td>    0.711</td> <td> 0.477</td> <td>   -0.000</td> <td>    0.000</td>\n",
       "</tr>\n",
       "</table>"
      ],
      "text/plain": [
       "<class 'statsmodels.iolib.summary.Summary'>\n",
       "\"\"\"\n",
       "                           Logit Regression Results                           \n",
       "==============================================================================\n",
       "Dep. Variable:               Response   No. Observations:                 9134\n",
       "Model:                          Logit   Df Residuals:                     9126\n",
       "Method:                           MLE   Df Model:                            7\n",
       "Date:                Thu, 03 Oct 2019   Pseudo R-squ.:                -0.02546\n",
       "Time:                        12:46:40   Log-Likelihood:                -3847.1\n",
       "converged:                       True   LL-Null:                       -3751.6\n",
       "                                        LLR p-value:                     1.000\n",
       "=================================================================================================\n",
       "                                    coef    std err          z      P>|z|      [0.025      0.975]\n",
       "-------------------------------------------------------------------------------------------------\n",
       "Customer Lifetime Value       -6.741e-06   5.04e-06     -1.337      0.181   -1.66e-05    3.14e-06\n",
       "Income                        -2.857e-06   1.03e-06     -2.766      0.006   -4.88e-06   -8.33e-07\n",
       "Monthly Premium Auto             -0.0084      0.001     -6.889      0.000      -0.011      -0.006\n",
       "Months Since Last Claim          -0.0202      0.003     -7.238      0.000      -0.026      -0.015\n",
       "Months Since Policy Inception    -0.0060      0.001     -6.148      0.000      -0.008      -0.004\n",
       "Number of Open Complaints        -0.0829      0.034     -2.424      0.015      -0.150      -0.016\n",
       "Number of Policies               -0.0810      0.013     -6.356      0.000      -0.106      -0.056\n",
       "Total Claim Amount                0.0001      0.000      0.711      0.477      -0.000       0.000\n",
       "=================================================================================================\n",
       "\"\"\""
      ]
     },
     "execution_count": 134,
     "metadata": {},
     "output_type": "execute_result"
    }
   ],
   "source": [
    "continuous_var_reg.fit().summary()"
   ]
  },
  {
   "cell_type": "markdown",
   "metadata": {},
   "source": [
    "The following pvalues for the corresponding input variables seem to have significant relationships with the output(target) variable 'Response':  Income, Monthly Premium Auto, Moths Since Last Claim, Months Since Policy Inception, Number of Open Complaints, Number of Policies.\n",
    "\n",
    "The coefficient shows that they are also all negatively correlated to the Response variable. "
   ]
  },
  {
   "cell_type": "markdown",
   "metadata": {},
   "source": [
    "Refreshment on what p-values are"
   ]
  },
  {
   "cell_type": "markdown",
   "metadata": {},
   "source": [
    "P-values evaluate how well the sample data support the devil's advocate argument that the null hypothesis is true. It measures how compatible your data is wit hthe null hypothesis. Hoe likely is the effect observed in your sample data id the null hypothesis is true?"
   ]
  },
  {
   "cell_type": "markdown",
   "metadata": {},
   "source": [
    "# High P values: your data are likely with a true null"
   ]
  },
  {
   "cell_type": "markdown",
   "metadata": {},
   "source": [
    "# Low P values: your data are unlikely with a true null"
   ]
  },
  {
   "cell_type": "markdown",
   "metadata": {},
   "source": [
    "A low p val suggests that your sample provides enough evidence that you can regect the null hypothesis for the entire population."
   ]
  },
  {
   "cell_type": "code",
   "execution_count": 135,
   "metadata": {},
   "outputs": [
    {
     "data": {
      "image/png": "[encoded data removed]",
      "text/plain": [
       "<Figure size 720x432 with 2 Axes>"
      ]
     },
     "metadata": {},
     "output_type": "display_data"
    }
   ],
   "source": [
    "plt.figure(figsize=(10,6))\n",
    "sns.heatmap(continuous_var_df.corr(), annot = True)\n",
    "plt.show()"
   ]
  },
  {
   "cell_type": "markdown",
   "metadata": {},
   "source": [
    "# 4.Regression Analysis with Categorical Variables"
   ]
  },
  {
   "cell_type": "code",
   "execution_count": 136,
   "metadata": {},
   "outputs": [],
   "source": [
    "categorical_df = df.select_dtypes(include='object')\n",
    "cat_df = categorical_df.drop(['Customer', 'Effective To Date'], axis = 1)"
   ]
  },
  {
   "cell_type": "code",
   "execution_count": 137,
   "metadata": {},
   "outputs": [
    {
     "data": {
      "text/plain": [
       "State               5\n",
       "Coverage            3\n",
       "Education           5\n",
       "EmploymentStatus    5\n",
       "Gender              2\n",
       "Location Code       3\n",
       "Marital Status      3\n",
       "Policy Type         3\n",
       "Policy              9\n",
       "Renew Offer Type    4\n",
       "Sales Channel       4\n",
       "Vehicle Class       6\n",
       "Vehicle Size        3\n",
       "dtype: int64"
      ]
     },
     "execution_count": 137,
     "metadata": {},
     "output_type": "execute_result"
    }
   ],
   "source": [
    "cat_df.nunique()#cat stands for categorical"
   ]
  },
  {
   "cell_type": "markdown",
   "metadata": {},
   "source": [
    "# Conversion of Categorical data"
   ]
  },
  {
   "cell_type": "code",
   "execution_count": 138,
   "metadata": {},
   "outputs": [
    {
     "data": {
      "text/plain": [
       "Index(['State', 'Coverage', 'Education', 'EmploymentStatus', 'Gender',\n",
       "       'Location Code', 'Marital Status', 'Policy Type', 'Policy',\n",
       "       'Renew Offer Type', 'Sales Channel', 'Vehicle Class', 'Vehicle Size'],\n",
       "      dtype='object')"
      ]
     },
     "execution_count": 138,
     "metadata": {},
     "output_type": "execute_result"
    }
   ],
   "source": [
    "cat_df.columns"
   ]
  },
  {
   "cell_type": "code",
   "execution_count": 139,
   "metadata": {},
   "outputs": [],
   "source": [
    "cols = ['State', 'Coverage', 'Education', 'EmploymentStatus', 'Gender',\n",
    "       'Location Code', 'Marital Status', 'Policy Type', 'Policy',\n",
    "       'Renew Offer Type', 'Sales Channel', 'Vehicle Class', 'Vehicle Size']"
   ]
  },
  {
   "cell_type": "code",
   "execution_count": 140,
   "metadata": {},
   "outputs": [],
   "source": [
    "from sklearn.preprocessing import LabelEncoder\n",
    "lb = LabelEncoder()\n",
    "for col in cat_df[cols]:\n",
    "    cat_df[col] = lb.fit_transform(cat_df[col])"
   ]
  },
  {
   "cell_type": "code",
   "execution_count": 141,
   "metadata": {},
   "outputs": [
    {
     "data": {
      "text/html": [
       "<div>\n",
       "<style scoped>\n",
       "    .dataframe tbody tr th:only-of-type {\n",
       "        vertical-align: middle;\n",
       "    }\n",
       "\n",
       "    .dataframe tbody tr th {\n",
       "        vertical-align: top;\n",
       "    }\n",
       "\n",
       "    .dataframe thead th {\n",
       "        text-align: right;\n",
       "    }\n",
       "</style>\n",
       "<table border=\"1\" class=\"dataframe\">\n",
       "  <thead>\n",
       "    <tr style=\"text-align: right;\">\n",
       "      <th></th>\n",
       "      <th>State</th>\n",
       "      <th>Coverage</th>\n",
       "      <th>Education</th>\n",
       "      <th>EmploymentStatus</th>\n",
       "      <th>Gender</th>\n",
       "      <th>Location Code</th>\n",
       "      <th>Marital Status</th>\n",
       "      <th>Policy Type</th>\n",
       "      <th>Policy</th>\n",
       "      <th>Renew Offer Type</th>\n",
       "      <th>Sales Channel</th>\n",
       "      <th>Vehicle Class</th>\n",
       "      <th>Vehicle Size</th>\n",
       "    </tr>\n",
       "  </thead>\n",
       "  <tbody>\n",
       "    <tr>\n",
       "      <th>0</th>\n",
       "      <td>4</td>\n",
       "      <td>0</td>\n",
       "      <td>0</td>\n",
       "      <td>1</td>\n",
       "      <td>0</td>\n",
       "      <td>1</td>\n",
       "      <td>1</td>\n",
       "      <td>0</td>\n",
       "      <td>2</td>\n",
       "      <td>0</td>\n",
       "      <td>0</td>\n",
       "      <td>5</td>\n",
       "      <td>1</td>\n",
       "    </tr>\n",
       "    <tr>\n",
       "      <th>1</th>\n",
       "      <td>0</td>\n",
       "      <td>1</td>\n",
       "      <td>0</td>\n",
       "      <td>4</td>\n",
       "      <td>0</td>\n",
       "      <td>1</td>\n",
       "      <td>2</td>\n",
       "      <td>1</td>\n",
       "      <td>5</td>\n",
       "      <td>2</td>\n",
       "      <td>0</td>\n",
       "      <td>0</td>\n",
       "      <td>1</td>\n",
       "    </tr>\n",
       "    <tr>\n",
       "      <th>2</th>\n",
       "      <td>2</td>\n",
       "      <td>2</td>\n",
       "      <td>0</td>\n",
       "      <td>1</td>\n",
       "      <td>0</td>\n",
       "      <td>1</td>\n",
       "      <td>1</td>\n",
       "      <td>1</td>\n",
       "      <td>5</td>\n",
       "      <td>0</td>\n",
       "      <td>0</td>\n",
       "      <td>5</td>\n",
       "      <td>1</td>\n",
       "    </tr>\n",
       "    <tr>\n",
       "      <th>3</th>\n",
       "      <td>1</td>\n",
       "      <td>0</td>\n",
       "      <td>0</td>\n",
       "      <td>4</td>\n",
       "      <td>1</td>\n",
       "      <td>1</td>\n",
       "      <td>1</td>\n",
       "      <td>0</td>\n",
       "      <td>1</td>\n",
       "      <td>0</td>\n",
       "      <td>2</td>\n",
       "      <td>3</td>\n",
       "      <td>1</td>\n",
       "    </tr>\n",
       "    <tr>\n",
       "      <th>4</th>\n",
       "      <td>4</td>\n",
       "      <td>0</td>\n",
       "      <td>0</td>\n",
       "      <td>1</td>\n",
       "      <td>1</td>\n",
       "      <td>0</td>\n",
       "      <td>2</td>\n",
       "      <td>1</td>\n",
       "      <td>3</td>\n",
       "      <td>0</td>\n",
       "      <td>0</td>\n",
       "      <td>0</td>\n",
       "      <td>1</td>\n",
       "    </tr>\n",
       "  </tbody>\n",
       "</table>\n",
       "</div>"
      ],
      "text/plain": [
       "   State  Coverage  Education  EmploymentStatus  Gender  Location Code  \\\n",
       "0      4         0          0                 1       0              1   \n",
       "1      0         1          0                 4       0              1   \n",
       "2      2         2          0                 1       0              1   \n",
       "3      1         0          0                 4       1              1   \n",
       "4      4         0          0                 1       1              0   \n",
       "\n",
       "   Marital Status  Policy Type  Policy  Renew Offer Type  Sales Channel  \\\n",
       "0               1            0       2                 0              0   \n",
       "1               2            1       5                 2              0   \n",
       "2               1            1       5                 0              0   \n",
       "3               1            0       1                 0              2   \n",
       "4               2            1       3                 0              0   \n",
       "\n",
       "   Vehicle Class  Vehicle Size  \n",
       "0              5             1  \n",
       "1              0             1  \n",
       "2              5             1  \n",
       "3              3             1  \n",
       "4              0             1  "
      ]
     },
     "execution_count": 141,
     "metadata": {},
     "output_type": "execute_result"
    }
   ],
   "source": [
    "cat_df.head()"
   ]
  },
  {
   "cell_type": "code",
   "execution_count": 142,
   "metadata": {},
   "outputs": [
    {
     "name": "stdout",
     "output_type": "stream",
     "text": [
      "Optimization terminated successfully.\n",
      "         Current function value: 0.387557\n",
      "         Iterations 7\n"
     ]
    },
    {
     "data": {
      "text/html": [
       "<table class=\"simpletable\">\n",
       "<caption>Logit Regression Results</caption>\n",
       "<tr>\n",
       "  <th>Dep. Variable:</th>     <td>Response</td>     <th>  No. Observations:  </th>  <td>  9134</td>  \n",
       "</tr>\n",
       "<tr>\n",
       "  <th>Model:</th>               <td>Logit</td>      <th>  Df Residuals:      </th>  <td>  9121</td>  \n",
       "</tr>\n",
       "<tr>\n",
       "  <th>Method:</th>               <td>MLE</td>       <th>  Df Model:          </th>  <td>    12</td>  \n",
       "</tr>\n",
       "<tr>\n",
       "  <th>Date:</th>          <td>Thu, 03 Oct 2019</td> <th>  Pseudo R-squ.:     </th>  <td>0.05642</td> \n",
       "</tr>\n",
       "<tr>\n",
       "  <th>Time:</th>              <td>12:46:54</td>     <th>  Log-Likelihood:    </th> <td> -3539.9</td> \n",
       "</tr>\n",
       "<tr>\n",
       "  <th>converged:</th>           <td>True</td>       <th>  LL-Null:           </th> <td> -3751.6</td> \n",
       "</tr>\n",
       "<tr>\n",
       "  <th> </th>                      <td> </td>        <th>  LLR p-value:       </th> <td>4.224e-83</td>\n",
       "</tr>\n",
       "</table>\n",
       "<table class=\"simpletable\">\n",
       "<tr>\n",
       "          <td></td>            <th>coef</th>     <th>std err</th>      <th>z</th>      <th>P>|z|</th>  <th>[0.025</th>    <th>0.975]</th>  \n",
       "</tr>\n",
       "<tr>\n",
       "  <th>State</th>            <td>   -0.0256</td> <td>    0.023</td> <td>   -1.122</td> <td> 0.262</td> <td>   -0.070</td> <td>    0.019</td>\n",
       "</tr>\n",
       "<tr>\n",
       "  <th>Coverage</th>         <td>   -0.0639</td> <td>    0.046</td> <td>   -1.390</td> <td> 0.164</td> <td>   -0.154</td> <td>    0.026</td>\n",
       "</tr>\n",
       "<tr>\n",
       "  <th>Education</th>        <td>    0.0088</td> <td>    0.022</td> <td>    0.409</td> <td> 0.683</td> <td>   -0.033</td> <td>    0.051</td>\n",
       "</tr>\n",
       "<tr>\n",
       "  <th>EmploymentStatus</th> <td>   -0.0459</td> <td>    0.024</td> <td>   -1.951</td> <td> 0.051</td> <td>   -0.092</td> <td>    0.000</td>\n",
       "</tr>\n",
       "<tr>\n",
       "  <th>Gender</th>           <td>    0.0466</td> <td>    0.060</td> <td>    0.774</td> <td> 0.439</td> <td>   -0.071</td> <td>    0.165</td>\n",
       "</tr>\n",
       "<tr>\n",
       "  <th>Location Code</th>    <td>   -0.0477</td> <td>    0.047</td> <td>   -1.014</td> <td> 0.311</td> <td>   -0.140</td> <td>    0.045</td>\n",
       "</tr>\n",
       "<tr>\n",
       "  <th>Marital Status</th>   <td>   -0.4643</td> <td>    0.047</td> <td>   -9.816</td> <td> 0.000</td> <td>   -0.557</td> <td>   -0.372</td>\n",
       "</tr>\n",
       "<tr>\n",
       "  <th>Policy Type</th>      <td>    0.1736</td> <td>    0.132</td> <td>    1.311</td> <td> 0.190</td> <td>   -0.086</td> <td>    0.433</td>\n",
       "</tr>\n",
       "<tr>\n",
       "  <th>Policy</th>           <td>   -0.0751</td> <td>    0.037</td> <td>   -2.033</td> <td> 0.042</td> <td>   -0.147</td> <td>   -0.003</td>\n",
       "</tr>\n",
       "<tr>\n",
       "  <th>Renew Offer Type</th> <td>   -0.5681</td> <td>    0.037</td> <td>  -15.226</td> <td> 0.000</td> <td>   -0.641</td> <td>   -0.495</td>\n",
       "</tr>\n",
       "<tr>\n",
       "  <th>Sales Channel</th>    <td>   -0.2150</td> <td>    0.030</td> <td>   -7.148</td> <td> 0.000</td> <td>   -0.274</td> <td>   -0.156</td>\n",
       "</tr>\n",
       "<tr>\n",
       "  <th>Vehicle Class</th>    <td>    0.0201</td> <td>    0.015</td> <td>    1.381</td> <td> 0.167</td> <td>   -0.008</td> <td>    0.049</td>\n",
       "</tr>\n",
       "<tr>\n",
       "  <th>Vehicle Size</th>     <td>   -0.3355</td> <td>    0.052</td> <td>   -6.398</td> <td> 0.000</td> <td>   -0.438</td> <td>   -0.233</td>\n",
       "</tr>\n",
       "</table>"
      ],
      "text/plain": [
       "<class 'statsmodels.iolib.summary.Summary'>\n",
       "\"\"\"\n",
       "                           Logit Regression Results                           \n",
       "==============================================================================\n",
       "Dep. Variable:               Response   No. Observations:                 9134\n",
       "Model:                          Logit   Df Residuals:                     9121\n",
       "Method:                           MLE   Df Model:                           12\n",
       "Date:                Thu, 03 Oct 2019   Pseudo R-squ.:                 0.05642\n",
       "Time:                        12:46:54   Log-Likelihood:                -3539.9\n",
       "converged:                       True   LL-Null:                       -3751.6\n",
       "                                        LLR p-value:                 4.224e-83\n",
       "====================================================================================\n",
       "                       coef    std err          z      P>|z|      [0.025      0.975]\n",
       "------------------------------------------------------------------------------------\n",
       "State               -0.0256      0.023     -1.122      0.262      -0.070       0.019\n",
       "Coverage            -0.0639      0.046     -1.390      0.164      -0.154       0.026\n",
       "Education            0.0088      0.022      0.409      0.683      -0.033       0.051\n",
       "EmploymentStatus    -0.0459      0.024     -1.951      0.051      -0.092       0.000\n",
       "Gender               0.0466      0.060      0.774      0.439      -0.071       0.165\n",
       "Location Code       -0.0477      0.047     -1.014      0.311      -0.140       0.045\n",
       "Marital Status      -0.4643      0.047     -9.816      0.000      -0.557      -0.372\n",
       "Policy Type          0.1736      0.132      1.311      0.190      -0.086       0.433\n",
       "Policy              -0.0751      0.037     -2.033      0.042      -0.147      -0.003\n",
       "Renew Offer Type    -0.5681      0.037    -15.226      0.000      -0.641      -0.495\n",
       "Sales Channel       -0.2150      0.030     -7.148      0.000      -0.274      -0.156\n",
       "Vehicle Class        0.0201      0.015      1.381      0.167      -0.008       0.049\n",
       "Vehicle Size        -0.3355      0.052     -6.398      0.000      -0.438      -0.233\n",
       "====================================================================================\n",
       "\"\"\""
      ]
     },
     "execution_count": 142,
     "metadata": {},
     "output_type": "execute_result"
    }
   ],
   "source": [
    "categorical_train = sm.Logit(continuous_var_df.Response, cat_df)\n",
    "categorical_train.fit().summary()"
   ]
  },
  {
   "cell_type": "markdown",
   "metadata": {},
   "source": [
    "Looking at the p-value, 'Marital Status', 'Renew Offer Type', 'Sales channel', 'Vehicle size', 'policy' variables are significant at 0.05 sig level, and all of them have a negative relationship with the Response varicable(output variable)."
   ]
  },
  {
   "cell_type": "markdown",
   "metadata": {},
   "source": [
    "# 5. Regression Analysis with bith Continuous and Categorical Variables"
   ]
  },
  {
   "cell_type": "code",
   "execution_count": 143,
   "metadata": {},
   "outputs": [],
   "source": [
    "continuous_var_df.reset_index(drop = True, inplace=True)\n",
    "\n",
    "cat_df.reset_index(drop = True, inplace=True)"
   ]
  },
  {
   "cell_type": "code",
   "execution_count": 144,
   "metadata": {},
   "outputs": [],
   "source": [
    "all_data_df = pd.concat([continuous_var_df, cat_df], axis =1)"
   ]
  },
  {
   "cell_type": "code",
   "execution_count": 145,
   "metadata": {},
   "outputs": [
    {
     "data": {
      "text/html": [
       "<div>\n",
       "<style scoped>\n",
       "    .dataframe tbody tr th:only-of-type {\n",
       "        vertical-align: middle;\n",
       "    }\n",
       "\n",
       "    .dataframe tbody tr th {\n",
       "        vertical-align: top;\n",
       "    }\n",
       "\n",
       "    .dataframe thead th {\n",
       "        text-align: right;\n",
       "    }\n",
       "</style>\n",
       "<table border=\"1\" class=\"dataframe\">\n",
       "  <thead>\n",
       "    <tr style=\"text-align: right;\">\n",
       "      <th></th>\n",
       "      <th>Customer Lifetime Value</th>\n",
       "      <th>Response</th>\n",
       "      <th>Income</th>\n",
       "      <th>Monthly Premium Auto</th>\n",
       "      <th>Months Since Last Claim</th>\n",
       "      <th>Months Since Policy Inception</th>\n",
       "      <th>Number of Open Complaints</th>\n",
       "      <th>Number of Policies</th>\n",
       "      <th>Total Claim Amount</th>\n",
       "      <th>State</th>\n",
       "      <th>...</th>\n",
       "      <th>EmploymentStatus</th>\n",
       "      <th>Gender</th>\n",
       "      <th>Location Code</th>\n",
       "      <th>Marital Status</th>\n",
       "      <th>Policy Type</th>\n",
       "      <th>Policy</th>\n",
       "      <th>Renew Offer Type</th>\n",
       "      <th>Sales Channel</th>\n",
       "      <th>Vehicle Class</th>\n",
       "      <th>Vehicle Size</th>\n",
       "    </tr>\n",
       "  </thead>\n",
       "  <tbody>\n",
       "    <tr>\n",
       "      <th>0</th>\n",
       "      <td>2763.519279</td>\n",
       "      <td>0</td>\n",
       "      <td>56274</td>\n",
       "      <td>69</td>\n",
       "      <td>32</td>\n",
       "      <td>5</td>\n",
       "      <td>0</td>\n",
       "      <td>1</td>\n",
       "      <td>384.811147</td>\n",
       "      <td>4</td>\n",
       "      <td>...</td>\n",
       "      <td>1</td>\n",
       "      <td>0</td>\n",
       "      <td>1</td>\n",
       "      <td>1</td>\n",
       "      <td>0</td>\n",
       "      <td>2</td>\n",
       "      <td>0</td>\n",
       "      <td>0</td>\n",
       "      <td>5</td>\n",
       "      <td>1</td>\n",
       "    </tr>\n",
       "    <tr>\n",
       "      <th>1</th>\n",
       "      <td>6979.535903</td>\n",
       "      <td>0</td>\n",
       "      <td>0</td>\n",
       "      <td>94</td>\n",
       "      <td>13</td>\n",
       "      <td>42</td>\n",
       "      <td>0</td>\n",
       "      <td>8</td>\n",
       "      <td>1131.464935</td>\n",
       "      <td>0</td>\n",
       "      <td>...</td>\n",
       "      <td>4</td>\n",
       "      <td>0</td>\n",
       "      <td>1</td>\n",
       "      <td>2</td>\n",
       "      <td>1</td>\n",
       "      <td>5</td>\n",
       "      <td>2</td>\n",
       "      <td>0</td>\n",
       "      <td>0</td>\n",
       "      <td>1</td>\n",
       "    </tr>\n",
       "    <tr>\n",
       "      <th>2</th>\n",
       "      <td>12887.431650</td>\n",
       "      <td>0</td>\n",
       "      <td>48767</td>\n",
       "      <td>108</td>\n",
       "      <td>18</td>\n",
       "      <td>38</td>\n",
       "      <td>0</td>\n",
       "      <td>2</td>\n",
       "      <td>566.472247</td>\n",
       "      <td>2</td>\n",
       "      <td>...</td>\n",
       "      <td>1</td>\n",
       "      <td>0</td>\n",
       "      <td>1</td>\n",
       "      <td>1</td>\n",
       "      <td>1</td>\n",
       "      <td>5</td>\n",
       "      <td>0</td>\n",
       "      <td>0</td>\n",
       "      <td>5</td>\n",
       "      <td>1</td>\n",
       "    </tr>\n",
       "    <tr>\n",
       "      <th>3</th>\n",
       "      <td>7645.861827</td>\n",
       "      <td>0</td>\n",
       "      <td>0</td>\n",
       "      <td>106</td>\n",
       "      <td>18</td>\n",
       "      <td>65</td>\n",
       "      <td>0</td>\n",
       "      <td>7</td>\n",
       "      <td>529.881344</td>\n",
       "      <td>1</td>\n",
       "      <td>...</td>\n",
       "      <td>4</td>\n",
       "      <td>1</td>\n",
       "      <td>1</td>\n",
       "      <td>1</td>\n",
       "      <td>0</td>\n",
       "      <td>1</td>\n",
       "      <td>0</td>\n",
       "      <td>2</td>\n",
       "      <td>3</td>\n",
       "      <td>1</td>\n",
       "    </tr>\n",
       "    <tr>\n",
       "      <th>4</th>\n",
       "      <td>2813.692575</td>\n",
       "      <td>0</td>\n",
       "      <td>43836</td>\n",
       "      <td>73</td>\n",
       "      <td>12</td>\n",
       "      <td>44</td>\n",
       "      <td>0</td>\n",
       "      <td>1</td>\n",
       "      <td>138.130879</td>\n",
       "      <td>4</td>\n",
       "      <td>...</td>\n",
       "      <td>1</td>\n",
       "      <td>1</td>\n",
       "      <td>0</td>\n",
       "      <td>2</td>\n",
       "      <td>1</td>\n",
       "      <td>3</td>\n",
       "      <td>0</td>\n",
       "      <td>0</td>\n",
       "      <td>0</td>\n",
       "      <td>1</td>\n",
       "    </tr>\n",
       "  </tbody>\n",
       "</table>\n",
       "<p>5 rows × 22 columns</p>\n",
       "</div>"
      ],
      "text/plain": [
       "   Customer Lifetime Value  Response  Income  Monthly Premium Auto  \\\n",
       "0              2763.519279         0   56274                    69   \n",
       "1              6979.535903         0       0                    94   \n",
       "2             12887.431650         0   48767                   108   \n",
       "3              7645.861827         0       0                   106   \n",
       "4              2813.692575         0   43836                    73   \n",
       "\n",
       "   Months Since Last Claim  Months Since Policy Inception  \\\n",
       "0                       32                              5   \n",
       "1                       13                             42   \n",
       "2                       18                             38   \n",
       "3                       18                             65   \n",
       "4                       12                             44   \n",
       "\n",
       "   Number of Open Complaints  Number of Policies  Total Claim Amount  State  \\\n",
       "0                          0                   1          384.811147      4   \n",
       "1                          0                   8         1131.464935      0   \n",
       "2                          0                   2          566.472247      2   \n",
       "3                          0                   7          529.881344      1   \n",
       "4                          0                   1          138.130879      4   \n",
       "\n",
       "       ...       EmploymentStatus  Gender  Location Code  Marital Status  \\\n",
       "0      ...                      1       0              1               1   \n",
       "1      ...                      4       0              1               2   \n",
       "2      ...                      1       0              1               1   \n",
       "3      ...                      4       1              1               1   \n",
       "4      ...                      1       1              0               2   \n",
       "\n",
       "   Policy Type  Policy  Renew Offer Type  Sales Channel  Vehicle Class  \\\n",
       "0            0       2                 0              0              5   \n",
       "1            1       5                 2              0              0   \n",
       "2            1       5                 0              0              5   \n",
       "3            0       1                 0              2              3   \n",
       "4            1       3                 0              0              0   \n",
       "\n",
       "   Vehicle Size  \n",
       "0             1  \n",
       "1             1  \n",
       "2             1  \n",
       "3             1  \n",
       "4             1  \n",
       "\n",
       "[5 rows x 22 columns]"
      ]
     },
     "execution_count": 145,
     "metadata": {},
     "output_type": "execute_result"
    }
   ],
   "source": [
    "all_data_df.head()"
   ]
  },
  {
   "cell_type": "markdown",
   "metadata": {},
   "source": [
    "By looking at the p-value of 'Customer lifetime value','Income', 'Monthly Premium Auto','Months Since Last Claim', 'Months Since Policy Inception','Number of Policies','Total claim amount','Marital Status','Renew offer type','Sales Channel','Vehicle size', these input variables seems to have significant relationships with the output(target) variable 'Response'. By looking at the coeff,they are all negatively correlated to the Response variable"
   ]
  },
  {
   "cell_type": "markdown",
   "metadata": {},
   "source": [
    "Conclusion being that hte higher the customer lifetime value is, the less likelu that the customer will respond to marketing calls."
   ]
  },
  {
   "cell_type": "markdown",
   "metadata": {},
   "source": [
    "# 6. Regression Analysis excluding Non-sig variables"
   ]
  },
  {
   "cell_type": "code",
   "execution_count": 146,
   "metadata": {},
   "outputs": [
    {
     "data": {
      "text/plain": [
       "Index(['Customer Lifetime Value', 'Response', 'Income', 'Monthly Premium Auto',\n",
       "       'Months Since Last Claim', 'Months Since Policy Inception',\n",
       "       'Number of Open Complaints', 'Number of Policies', 'Total Claim Amount',\n",
       "       'State', 'Coverage', 'Education', 'EmploymentStatus', 'Gender',\n",
       "       'Location Code', 'Marital Status', 'Policy Type', 'Policy',\n",
       "       'Renew Offer Type', 'Sales Channel', 'Vehicle Class', 'Vehicle Size'],\n",
       "      dtype='object')"
      ]
     },
     "execution_count": 146,
     "metadata": {},
     "output_type": "execute_result"
    }
   ],
   "source": [
    "all_data_df.columns"
   ]
  },
  {
   "cell_type": "code",
   "execution_count": 147,
   "metadata": {},
   "outputs": [
    {
     "name": "stdout",
     "output_type": "stream",
     "text": [
      "Optimization terminated successfully.\n",
      "         Current function value: 0.385476\n",
      "         Iterations 7\n"
     ]
    },
    {
     "data": {
      "text/html": [
       "<table class=\"simpletable\">\n",
       "<caption>Logit Regression Results</caption>\n",
       "<tr>\n",
       "  <th>Dep. Variable:</th>     <td>Response</td>     <th>  No. Observations:  </th>  <td>  9134</td>  \n",
       "</tr>\n",
       "<tr>\n",
       "  <th>Model:</th>               <td>Logit</td>      <th>  Df Residuals:      </th>  <td>  9123</td>  \n",
       "</tr>\n",
       "<tr>\n",
       "  <th>Method:</th>               <td>MLE</td>       <th>  Df Model:          </th>  <td>    10</td>  \n",
       "</tr>\n",
       "<tr>\n",
       "  <th>Date:</th>          <td>Thu, 03 Oct 2019</td> <th>  Pseudo R-squ.:     </th>  <td>0.06149</td> \n",
       "</tr>\n",
       "<tr>\n",
       "  <th>Time:</th>              <td>12:46:57</td>     <th>  Log-Likelihood:    </th> <td> -3520.9</td> \n",
       "</tr>\n",
       "<tr>\n",
       "  <th>converged:</th>           <td>True</td>       <th>  LL-Null:           </th> <td> -3751.6</td> \n",
       "</tr>\n",
       "<tr>\n",
       "  <th> </th>                      <td> </td>        <th>  LLR p-value:       </th> <td>7.814e-93</td>\n",
       "</tr>\n",
       "</table>\n",
       "<table class=\"simpletable\">\n",
       "<tr>\n",
       "                <td></td>                   <th>coef</th>     <th>std err</th>      <th>z</th>      <th>P>|z|</th>  <th>[0.025</th>    <th>0.975]</th>  \n",
       "</tr>\n",
       "<tr>\n",
       "  <th>Customer Lifetime Value</th>       <td>-1.129e-05</td> <td> 5.09e-06</td> <td>   -2.217</td> <td> 0.027</td> <td>-2.13e-05</td> <td>-1.31e-06</td>\n",
       "</tr>\n",
       "<tr>\n",
       "  <th>Income</th>                        <td> 3.549e-06</td> <td> 1.11e-06</td> <td>    3.192</td> <td> 0.001</td> <td> 1.37e-06</td> <td> 5.73e-06</td>\n",
       "</tr>\n",
       "<tr>\n",
       "  <th>Monthly Premium Auto</th>          <td>   -0.0033</td> <td>    0.001</td> <td>   -2.762</td> <td> 0.006</td> <td>   -0.006</td> <td>   -0.001</td>\n",
       "</tr>\n",
       "<tr>\n",
       "  <th>Months Since Last Claim</th>       <td>   -0.0062</td> <td>    0.003</td> <td>   -2.102</td> <td> 0.036</td> <td>   -0.012</td> <td>   -0.000</td>\n",
       "</tr>\n",
       "<tr>\n",
       "  <th>Months Since Policy Inception</th> <td>   -0.0023</td> <td>    0.001</td> <td>   -2.238</td> <td> 0.025</td> <td>   -0.004</td> <td>   -0.000</td>\n",
       "</tr>\n",
       "<tr>\n",
       "  <th>Number of Policies</th>            <td>   -0.0414</td> <td>    0.013</td> <td>   -3.226</td> <td> 0.001</td> <td>   -0.067</td> <td>   -0.016</td>\n",
       "</tr>\n",
       "<tr>\n",
       "  <th>Total Claim Amount</th>            <td>    0.0006</td> <td>    0.000</td> <td>    4.148</td> <td> 0.000</td> <td>    0.000</td> <td>    0.001</td>\n",
       "</tr>\n",
       "<tr>\n",
       "  <th>Marital Status</th>                <td>   -0.4794</td> <td>    0.045</td> <td>  -10.664</td> <td> 0.000</td> <td>   -0.567</td> <td>   -0.391</td>\n",
       "</tr>\n",
       "<tr>\n",
       "  <th>Renew Offer Type</th>              <td>   -0.5793</td> <td>    0.038</td> <td>  -15.268</td> <td> 0.000</td> <td>   -0.654</td> <td>   -0.505</td>\n",
       "</tr>\n",
       "<tr>\n",
       "  <th>Sales Channel</th>                 <td>   -0.1981</td> <td>    0.030</td> <td>   -6.539</td> <td> 0.000</td> <td>   -0.257</td> <td>   -0.139</td>\n",
       "</tr>\n",
       "<tr>\n",
       "  <th>Vehicle Size</th>                  <td>   -0.3031</td> <td>    0.053</td> <td>   -5.690</td> <td> 0.000</td> <td>   -0.407</td> <td>   -0.199</td>\n",
       "</tr>\n",
       "</table>"
      ],
      "text/plain": [
       "<class 'statsmodels.iolib.summary.Summary'>\n",
       "\"\"\"\n",
       "                           Logit Regression Results                           \n",
       "==============================================================================\n",
       "Dep. Variable:               Response   No. Observations:                 9134\n",
       "Model:                          Logit   Df Residuals:                     9123\n",
       "Method:                           MLE   Df Model:                           10\n",
       "Date:                Thu, 03 Oct 2019   Pseudo R-squ.:                 0.06149\n",
       "Time:                        12:46:57   Log-Likelihood:                -3520.9\n",
       "converged:                       True   LL-Null:                       -3751.6\n",
       "                                        LLR p-value:                 7.814e-93\n",
       "=================================================================================================\n",
       "                                    coef    std err          z      P>|z|      [0.025      0.975]\n",
       "-------------------------------------------------------------------------------------------------\n",
       "Customer Lifetime Value       -1.129e-05   5.09e-06     -2.217      0.027   -2.13e-05   -1.31e-06\n",
       "Income                         3.549e-06   1.11e-06      3.192      0.001    1.37e-06    5.73e-06\n",
       "Monthly Premium Auto             -0.0033      0.001     -2.762      0.006      -0.006      -0.001\n",
       "Months Since Last Claim          -0.0062      0.003     -2.102      0.036      -0.012      -0.000\n",
       "Months Since Policy Inception    -0.0023      0.001     -2.238      0.025      -0.004      -0.000\n",
       "Number of Policies               -0.0414      0.013     -3.226      0.001      -0.067      -0.016\n",
       "Total Claim Amount                0.0006      0.000      4.148      0.000       0.000       0.001\n",
       "Marital Status                   -0.4794      0.045    -10.664      0.000      -0.567      -0.391\n",
       "Renew Offer Type                 -0.5793      0.038    -15.268      0.000      -0.654      -0.505\n",
       "Sales Channel                    -0.1981      0.030     -6.539      0.000      -0.257      -0.139\n",
       "Vehicle Size                     -0.3031      0.053     -5.690      0.000      -0.407      -0.199\n",
       "=================================================================================================\n",
       "\"\"\""
      ]
     },
     "execution_count": 147,
     "metadata": {},
     "output_type": "execute_result"
    }
   ],
   "source": [
    "significant_cols = ['Customer Lifetime Value','Income','Monthly Premium Auto','Months Since Last Claim',\n",
    "                    'Months Since Policy Inception','Number of Policies','Total Claim Amount','Marital Status',\n",
    "                    'Renew Offer Type','Sales Channel','Vehicle Size']\n",
    "trainData = sm.Logit(all_data_df.Response, all_data_df[significant_cols])\n",
    "trainData.fit().summary()"
   ]
  },
  {
   "cell_type": "markdown",
   "metadata": {},
   "source": [
    "## 7. Classification \n",
    "In machine learning and statistics, classification is a supervised learning approach in which the computer program learns from the data input given to it and then uses this learning to classify new observation"
   ]
  },
  {
   "cell_type": "code",
   "execution_count": 148,
   "metadata": {},
   "outputs": [],
   "source": [
    "y = all_data_df.Response\n",
    "x = all_data_df.drop('Response', axis = 1)"
   ]
  },
  {
   "cell_type": "code",
   "execution_count": 149,
   "metadata": {},
   "outputs": [],
   "source": [
    "from sklearn.model_selection import train_test_split, cross_validate\n",
    "X_train, X_test, y_train, y_test = train_test_split(x,y, test_size = 0.3, random_state =42)"
   ]
  },
  {
   "cell_type": "code",
   "execution_count": 150,
   "metadata": {},
   "outputs": [
    {
     "data": {
      "image/png": "[encoded data removed]",
      "text/plain": [
       "<Figure size 432x288 with 1 Axes>"
      ]
     },
     "metadata": {},
     "output_type": "display_data"
    }
   ],
   "source": [
    "ax = sns.countplot(y_test)\n",
    "annot_plot_num(ax,0.08,1)"
   ]
  },
  {
   "cell_type": "markdown",
   "metadata": {},
   "source": [
    "## SVC Classification\n",
    "Support vector machines (SVMs) are a set of supervised learning methods used for classification, regression and outliers detection.\n",
    "\n",
    "The advantages of support vector machines are:\n",
    "\n",
    "Effective in high dimensional spaces.\n",
    "Still effective in cases where number of dimensions is greater than the number of samples.\n",
    "Uses a subset of training points in the decision function (called support vectors), so it is also memory efficient.\n",
    "Versatile: different Kernel functions can be specified for the decision function. Common kernels are provided, but it is also possible to specify custom kernels.\n",
    "The disadvantages of support vector machines include:\n",
    "\n",
    "If the number of features is much greater than the number of samples, avoid over-fitting in choosing Kernel functions and regularization term is crucial.\n",
    "SVMs do not directly provide probability estimates, these are calculated using an expensive five-fold cross-validation (see Scores and probabilities, below)."
   ]
  },
  {
   "cell_type": "code",
   "execution_count": 151,
   "metadata": {},
   "outputs": [],
   "source": [
    "from sklearn.metrics import confusion_matrix, accuracy_score, classification_report\n",
    "from sklearn.svm import SVC"
   ]
  },
  {
   "cell_type": "code",
   "execution_count": 152,
   "metadata": {},
   "outputs": [
    {
     "name": "stdout",
     "output_type": "stream",
     "text": [
      "[[2332   43]\n",
      " [   0  366]]\n",
      "accuracy_score: 0.9843122947829259\n",
      "              precision    recall  f1-score   support\n",
      "\n",
      "           0       1.00      0.98      0.99      2375\n",
      "           1       0.89      1.00      0.94       366\n",
      "\n",
      "   micro avg       0.98      0.98      0.98      2741\n",
      "   macro avg       0.95      0.99      0.97      2741\n",
      "weighted avg       0.99      0.98      0.98      2741\n",
      "\n",
      "Cross validation train_score 1.0\n",
      "Cross validation test_score 0.9776321678484378\n"
     ]
    }
   ],
   "source": [
    "svc = SVC()\n",
    "svc.fit(X_train, y_train)\n",
    "svc_pred = svc.predict(X_test)\n",
    "\n",
    "print(confusion_matrix(svc_pred, y_test))\n",
    "print('accuracy_score:',accuracy_score(svc_pred, y_test))\n",
    "print(classification_report(svc_pred, y_test))\n",
    "cross_val_score_svc = cross_validate(svc, X_train, y_train, cv =5)\n",
    "print('Cross validation train_score', cross_val_score_svc['train_score'].mean())\n",
    "print('Cross validation test_score',cross_val_score_svc['test_score'].mean())"
   ]
  },
  {
   "cell_type": "markdown",
   "metadata": {},
   "source": [
    "## 7.2 RandomForestClassifier "
   ]
  },
  {
   "cell_type": "code",
   "execution_count": 153,
   "metadata": {},
   "outputs": [
    {
     "name": "stdout",
     "output_type": "stream",
     "text": [
      "[[2324   26]\n",
      " [   8  383]]\n",
      "Accuracy score: 0.9875957679678949\n",
      "Cross validation train_score 0.9991396778929079\n",
      "Cross validation test_score 0.9782559421729118\n"
     ]
    }
   ],
   "source": [
    "from sklearn.ensemble import RandomForestClassifier\n",
    "rfc = RandomForestClassifier()\n",
    "rfc.fit(X_train, y_train)\n",
    "rfc_pred = rfc.predict(X_test)\n",
    "\n",
    "print(confusion_matrix(rfc_pred, y_test))\n",
    "print('Accuracy score:',accuracy_score(rfc_pred, y_test))\n",
    "\n",
    "cross_val_score_rfc = cross_validate(rfc, X_train, y_train, cv = 5)\n",
    "\n",
    "print('Cross validation train_score', cross_val_score_rfc['train_score'].mean())\n",
    "print('Cross validation test_score',cross_val_score_rfc['test_score'].mean())"
   ]
  },
  {
   "cell_type": "markdown",
   "metadata": {},
   "source": [
    "## Feature Importance"
   ]
  },
  {
   "cell_type": "code",
   "execution_count": 173,
   "metadata": {},
   "outputs": [
    {
     "data": {
      "image/png": "[encoded data removed]",
      "text/plain": [
       "<Figure size 864x504 with 1 Axes>"
      ]
     },
     "metadata": {},
     "output_type": "display_data"
    }
   ],
   "source": [
    "feature_imp = rfc.feature_importances_.round(3)\n",
    "ser_rank = pd.Series(feature_imp, index=x.columns)\n",
    "feature_imp.sort()\n",
    "\n",
    "plt.figure(figsize=(12,7))\n",
    "sns.barplot(x=ser_rank.values, y = ser_rank.index,palette='deep')\n",
    "plt.xlabel('relative importance')\n",
    "plt.show()"
   ]
  },
  {
   "cell_type": "code",
   "execution_count": null,
   "metadata": {},
   "outputs": [],
   "source": []
  },
  {
   "cell_type": "code",
   "execution_count": null,
   "metadata": {},
   "outputs": [],
   "source": []
  }
 ],
 "metadata": {
  "kernelspec": {
   "display_name": "Python 3",
   "language": "python",
   "name": "python3"
  },
  "language_info": {
   "codemirror_mode": {
    "name": "ipython",
    "version": 3
   },
   "file_extension": ".py",
   "mimetype": "text/x-python",
   "name": "python",
   "nbconvert_exporter": "python",
   "pygments_lexer": "ipython3",
   "version": "3.7.4"
  }
 },
 "nbformat": 4,
 "nbformat_minor": 2
}
